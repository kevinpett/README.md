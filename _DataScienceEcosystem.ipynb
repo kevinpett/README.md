{
 "cells": [
  {
   "cell_type": "markdown",
   "id": "92838452-b840-4348-8a19-bee58f9966de",
   "metadata": {},
   "source": [
    "# Data Science Tools and Ecosystem"
   ]
  },
  {
   "cell_type": "markdown",
   "id": "0dc76c10-4ac1-4ace-bc6b-b7e366dd2562",
   "metadata": {},
   "source": [
    "In this notebook, Data Science Tools and Ecosystem are summarized"
   ]
  },
  {
   "cell_type": "markdown",
   "id": "563d2501-641b-46e0-b66d-ac1c8ab437f6",
   "metadata": {},
   "source": [
    "**Objectives:**\n",
    "- Some of the popular languages that data scientists use are\n",
    "- Some of the commonly used libraries used by Data Scientists\n",
    "- Arithmetic expressions in Python\n",
    "- Data Science Tools"
   ]
  },
  {
   "cell_type": "markdown",
   "id": "0eaaa9bf-f7ff-49a0-954c-ab5a74351bcd",
   "metadata": {},
   "source": [
    "Some of the popular languages that Data Scientists use are:\n",
    "1. Python\n",
    "2. SQL\n",
    "3. R"
   ]
  },
  {
   "cell_type": "markdown",
   "id": "b8b84a78-e94d-4d1a-9096-144ba49dceda",
   "metadata": {},
   "source": [
    "Some of the commonly used libraries used by Data Scientists include: \n",
    "1. NumPy\n",
    "2. Matplotlib\n",
    "3. Pandas "
   ]
  },
  {
   "cell_type": "markdown",
   "id": "48311548-7962-42e8-885c-ebb3b65b4239",
   "metadata": {},
   "source": [
    "| Data Science Tools | \n",
    "|:------------------:|\n",
    "|RStudio|\n",
    "|Apache Spark|\n",
    "|TensorFlow|"
   ]
  },
  {
   "cell_type": "markdown",
   "id": "ca030c07-15d1-4ad8-8be6-2c9648b65cc8",
   "metadata": {},
   "source": [
    "### Below are a few examples of evaluating arithmetic expressions in Python "
   ]
  },
  {
   "cell_type": "markdown",
   "id": "7f6eeb78-e23b-419a-b4d9-74a1d47c0cba",
   "metadata": {},
   "source": [
    "This is a simple arithmetic expression to multiply then add integers"
   ]
  },
  {
   "cell_type": "code",
   "execution_count": 9,
   "id": "5e817644-d7c6-4ff6-9ac6-c8d52dc8c23c",
   "metadata": {},
   "outputs": [
    {
     "data": {
      "text/plain": [
       "17"
      ]
     },
     "execution_count": 9,
     "metadata": {},
     "output_type": "execute_result"
    }
   ],
   "source": [
    "(3*4)+5"
   ]
  },
  {
   "cell_type": "markdown",
   "id": "d6f2e9f0-4c97-46af-b48a-fc5f22e0272a",
   "metadata": {},
   "source": [
    "This will convert 200 minutes to hours by dividing by 60 "
   ]
  },
  {
   "cell_type": "code",
   "execution_count": null,
   "id": "e7c5c922-68dd-4bb5-a7a4-d44b1d881731",
   "metadata": {},
   "outputs": [],
   "source": [
    "hours, minutes = divmod(200/60) "
   ]
  },
  {
   "cell_type": "markdown",
   "id": "eae1b571-2748-462d-8263-8457e5a4eecb",
   "metadata": {},
   "source": [
    "## Author "
   ]
  },
  {
   "cell_type": "markdown",
   "id": "55c123ea-72e4-497f-b2b0-07a59e821054",
   "metadata": {},
   "source": [
    "Kevin Pettit"
   ]
  },
  {
   "cell_type": "code",
   "execution_count": null,
   "id": "e3e853d0-d3f9-445c-857e-f2aacbf78cd4",
   "metadata": {},
   "outputs": [],
   "source": []
  }
 ],
 "metadata": {
  "kernelspec": {
   "display_name": "Python 3 (ipykernel)",
   "language": "python",
   "name": "python3"
  },
  "language_info": {
   "codemirror_mode": {
    "name": "ipython",
    "version": 3
   },
   "file_extension": ".py",
   "mimetype": "text/x-python",
   "name": "python",
   "nbconvert_exporter": "python",
   "pygments_lexer": "ipython3",
   "version": "3.11.7"
  }
 },
 "nbformat": 4,
 "nbformat_minor": 5
}
